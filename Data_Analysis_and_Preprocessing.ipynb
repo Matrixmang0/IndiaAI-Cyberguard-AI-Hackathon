{
 "cells": [
  {
   "cell_type": "markdown",
   "metadata": {},
   "source": [
    "## Overview"
   ]
  },
  {
   "cell_type": "markdown",
   "metadata": {},
   "source": [
    "This notebook performs comprehensive data analysis and preprocessing on a crime classification dataset. The goal is to prepare the data for a machine learning model that will classify crimes into categories and sub-categories based on additional crime information."
   ]
  },
  {
   "cell_type": "markdown",
   "metadata": {},
   "source": [
    "## Import Required Libraries"
   ]
  },
  {
   "cell_type": "code",
   "execution_count": 1,
   "metadata": {},
   "outputs": [],
   "source": [
    "import pandas as pd\n",
    "import numpy as np\n",
    "import pickle\n",
    "import difflib"
   ]
  },
  {
   "cell_type": "markdown",
   "metadata": {},
   "source": [
    "## Loading Data"
   ]
  },
  {
   "cell_type": "code",
   "execution_count": 2,
   "metadata": {},
   "outputs": [],
   "source": [
    "train_dataset = pd.read_csv('./dataset/train.csv')\n",
    "test_dataset = pd.read_csv('./dataset/test.csv')"
   ]
  },
  {
   "cell_type": "code",
   "execution_count": 3,
   "metadata": {},
   "outputs": [
    {
     "name": "stdout",
     "output_type": "stream",
     "text": [
      "Training Dataset Shape: (93686, 3)\n",
      "\n",
      "First few rows of training data:\n"
     ]
    },
    {
     "data": {
      "text/html": [
       "<div>\n",
       "<style scoped>\n",
       "    .dataframe tbody tr th:only-of-type {\n",
       "        vertical-align: middle;\n",
       "    }\n",
       "\n",
       "    .dataframe tbody tr th {\n",
       "        vertical-align: top;\n",
       "    }\n",
       "\n",
       "    .dataframe thead th {\n",
       "        text-align: right;\n",
       "    }\n",
       "</style>\n",
       "<table border=\"1\" class=\"dataframe\">\n",
       "  <thead>\n",
       "    <tr style=\"text-align: right;\">\n",
       "      <th></th>\n",
       "      <th>category</th>\n",
       "      <th>sub_category</th>\n",
       "      <th>crimeaditionalinfo</th>\n",
       "    </tr>\n",
       "  </thead>\n",
       "  <tbody>\n",
       "    <tr>\n",
       "      <th>0</th>\n",
       "      <td>Online and Social Media Related Crime</td>\n",
       "      <td>Cyber Bullying  Stalking  Sexting</td>\n",
       "      <td>I had continue received random calls and abusi...</td>\n",
       "    </tr>\n",
       "    <tr>\n",
       "      <th>1</th>\n",
       "      <td>Online Financial Fraud</td>\n",
       "      <td>Fraud CallVishing</td>\n",
       "      <td>The above fraudster is continuously messaging ...</td>\n",
       "    </tr>\n",
       "    <tr>\n",
       "      <th>2</th>\n",
       "      <td>Online Gambling  Betting</td>\n",
       "      <td>Online Gambling  Betting</td>\n",
       "      <td>He is acting like a police and demanding for m...</td>\n",
       "    </tr>\n",
       "    <tr>\n",
       "      <th>3</th>\n",
       "      <td>Online and Social Media Related Crime</td>\n",
       "      <td>Online Job Fraud</td>\n",
       "      <td>In apna Job I have applied for job interview f...</td>\n",
       "    </tr>\n",
       "    <tr>\n",
       "      <th>4</th>\n",
       "      <td>Online Financial Fraud</td>\n",
       "      <td>Fraud CallVishing</td>\n",
       "      <td>I received a call from lady stating that she w...</td>\n",
       "    </tr>\n",
       "  </tbody>\n",
       "</table>\n",
       "</div>"
      ],
      "text/plain": [
       "                                category                       sub_category  \\\n",
       "0  Online and Social Media Related Crime  Cyber Bullying  Stalking  Sexting   \n",
       "1                 Online Financial Fraud                  Fraud CallVishing   \n",
       "2               Online Gambling  Betting           Online Gambling  Betting   \n",
       "3  Online and Social Media Related Crime                   Online Job Fraud   \n",
       "4                 Online Financial Fraud                  Fraud CallVishing   \n",
       "\n",
       "                                  crimeaditionalinfo  \n",
       "0  I had continue received random calls and abusi...  \n",
       "1  The above fraudster is continuously messaging ...  \n",
       "2  He is acting like a police and demanding for m...  \n",
       "3  In apna Job I have applied for job interview f...  \n",
       "4  I received a call from lady stating that she w...  "
      ]
     },
     "execution_count": 3,
     "metadata": {},
     "output_type": "execute_result"
    }
   ],
   "source": [
    "print(\"Training Dataset Shape:\", train_dataset.shape)\n",
    "print(\"\\nFirst few rows of training data:\")\n",
    "train_dataset.head()"
   ]
  },
  {
   "cell_type": "code",
   "execution_count": 4,
   "metadata": {},
   "outputs": [
    {
     "name": "stdout",
     "output_type": "stream",
     "text": [
      "\n",
      "Test Dataset Shape: (31229, 3)\n",
      "\n",
      "First few rows of test data:\n"
     ]
    },
    {
     "data": {
      "text/html": [
       "<div>\n",
       "<style scoped>\n",
       "    .dataframe tbody tr th:only-of-type {\n",
       "        vertical-align: middle;\n",
       "    }\n",
       "\n",
       "    .dataframe tbody tr th {\n",
       "        vertical-align: top;\n",
       "    }\n",
       "\n",
       "    .dataframe thead th {\n",
       "        text-align: right;\n",
       "    }\n",
       "</style>\n",
       "<table border=\"1\" class=\"dataframe\">\n",
       "  <thead>\n",
       "    <tr style=\"text-align: right;\">\n",
       "      <th></th>\n",
       "      <th>category</th>\n",
       "      <th>sub_category</th>\n",
       "      <th>crimeaditionalinfo</th>\n",
       "    </tr>\n",
       "  </thead>\n",
       "  <tbody>\n",
       "    <tr>\n",
       "      <th>0</th>\n",
       "      <td>RapeGang Rape RGRSexually Abusive Content</td>\n",
       "      <td>NaN</td>\n",
       "      <td>Sir namaskar  mein Ranjit Kumar PatraPaise neh...</td>\n",
       "    </tr>\n",
       "    <tr>\n",
       "      <th>1</th>\n",
       "      <td>Online Financial Fraud</td>\n",
       "      <td>DebitCredit Card FraudSim Swap Fraud</td>\n",
       "      <td>KOTAK MAHINDRA BANK FRAUD\\r\\nFRAUD AMOUNT</td>\n",
       "    </tr>\n",
       "    <tr>\n",
       "      <th>2</th>\n",
       "      <td>Cyber Attack/ Dependent Crimes</td>\n",
       "      <td>SQL Injection</td>\n",
       "      <td>The issue actually started when I got this ema...</td>\n",
       "    </tr>\n",
       "    <tr>\n",
       "      <th>3</th>\n",
       "      <td>Online Financial Fraud</td>\n",
       "      <td>Fraud CallVishing</td>\n",
       "      <td>I am amit kumar from karwi chitrakoot I am tot...</td>\n",
       "    </tr>\n",
       "    <tr>\n",
       "      <th>4</th>\n",
       "      <td>Any Other Cyber Crime</td>\n",
       "      <td>Other</td>\n",
       "      <td>I have ordered  saree and  blouse from rinki s...</td>\n",
       "    </tr>\n",
       "  </tbody>\n",
       "</table>\n",
       "</div>"
      ],
      "text/plain": [
       "                                    category  \\\n",
       "0  RapeGang Rape RGRSexually Abusive Content   \n",
       "1                     Online Financial Fraud   \n",
       "2             Cyber Attack/ Dependent Crimes   \n",
       "3                     Online Financial Fraud   \n",
       "4                      Any Other Cyber Crime   \n",
       "\n",
       "                           sub_category  \\\n",
       "0                                   NaN   \n",
       "1  DebitCredit Card FraudSim Swap Fraud   \n",
       "2                         SQL Injection   \n",
       "3                     Fraud CallVishing   \n",
       "4                                 Other   \n",
       "\n",
       "                                  crimeaditionalinfo  \n",
       "0  Sir namaskar  mein Ranjit Kumar PatraPaise neh...  \n",
       "1          KOTAK MAHINDRA BANK FRAUD\\r\\nFRAUD AMOUNT  \n",
       "2  The issue actually started when I got this ema...  \n",
       "3  I am amit kumar from karwi chitrakoot I am tot...  \n",
       "4  I have ordered  saree and  blouse from rinki s...  "
      ]
     },
     "execution_count": 4,
     "metadata": {},
     "output_type": "execute_result"
    }
   ],
   "source": [
    "print(\"\\nTest Dataset Shape:\", test_dataset.shape)\n",
    "print(\"\\nFirst few rows of test data:\")\n",
    "test_dataset.head()"
   ]
  },
  {
   "cell_type": "markdown",
   "metadata": {},
   "source": [
    "The dataset consists of crime reports with three main columns:\n",
    "- `crimeaditionalinfo`: Detailed description of the crime\n",
    "- `category`: Main crime category\n",
    "- `sub_category`: More specific classification within the main category"
   ]
  },
  {
   "cell_type": "markdown",
   "metadata": {},
   "source": [
    "## Checking for Missing Values"
   ]
  },
  {
   "cell_type": "code",
   "execution_count": 5,
   "metadata": {},
   "outputs": [
    {
     "name": "stdout",
     "output_type": "stream",
     "text": [
      "Training Dataset Info:\n",
      "<class 'pandas.core.frame.DataFrame'>\n",
      "RangeIndex: 93686 entries, 0 to 93685\n",
      "Data columns (total 3 columns):\n",
      " #   Column              Non-Null Count  Dtype \n",
      "---  ------              --------------  ----- \n",
      " 0   category            93686 non-null  object\n",
      " 1   sub_category        87095 non-null  object\n",
      " 2   crimeaditionalinfo  93665 non-null  object\n",
      "dtypes: object(3)\n",
      "memory usage: 2.1+ MB\n"
     ]
    }
   ],
   "source": [
    "print(\"Training Dataset Info:\")\n",
    "train_dataset.info()"
   ]
  },
  {
   "cell_type": "markdown",
   "metadata": {},
   "source": [
    "### Check for missing values in both datasets"
   ]
  },
  {
   "cell_type": "code",
   "execution_count": 6,
   "metadata": {},
   "outputs": [
    {
     "name": "stdout",
     "output_type": "stream",
     "text": [
      "\n",
      "Missing values in training dataset:\n"
     ]
    },
    {
     "data": {
      "text/plain": [
       "category                 0\n",
       "sub_category          6591\n",
       "crimeaditionalinfo      21\n",
       "dtype: int64"
      ]
     },
     "execution_count": 6,
     "metadata": {},
     "output_type": "execute_result"
    }
   ],
   "source": [
    "print(\"\\nMissing values in training dataset:\")\n",
    "train_dataset.isna().sum()"
   ]
  },
  {
   "cell_type": "code",
   "execution_count": 7,
   "metadata": {},
   "outputs": [
    {
     "name": "stdout",
     "output_type": "stream",
     "text": [
      "\n",
      "Missing values in test dataset:\n"
     ]
    },
    {
     "data": {
      "text/plain": [
       "category                 0\n",
       "sub_category          2236\n",
       "crimeaditionalinfo       7\n",
       "dtype: int64"
      ]
     },
     "execution_count": 7,
     "metadata": {},
     "output_type": "execute_result"
    }
   ],
   "source": [
    "print(\"\\nMissing values in test dataset:\")\n",
    "test_dataset.isna().sum()"
   ]
  },
  {
   "cell_type": "markdown",
   "metadata": {},
   "source": [
    "From the missing value analysis, we can observe:\n",
    "1. Some rows have missing crime descriptions (`crimeaditionalinfo`)\n",
    "2. Several rows have missing sub-categories\n",
    "3. All main categories are present"
   ]
  },
  {
   "cell_type": "markdown",
   "metadata": {},
   "source": [
    "## Handling Missing Values\n",
    "### 1. Crime Description Handling\n"
   ]
  },
  {
   "cell_type": "code",
   "execution_count": 8,
   "metadata": {},
   "outputs": [],
   "source": [
    "# Remove rows where crime description is missing\n",
    "train_dataset = train_dataset.dropna(subset=['crimeaditionalinfo'])\n",
    "test_dataset = test_dataset.dropna(subset=['crimeaditionalinfo'])"
   ]
  },
  {
   "cell_type": "markdown",
   "metadata": {},
   "source": [
    "We remove rows with missing crime descriptions because:\n",
    "- The crime description is our main input feature\n",
    "- Without a description, we cannot make meaningful predictions\n",
    "- Imputation would not be appropriate for text data in this context"
   ]
  },
  {
   "cell_type": "markdown",
   "metadata": {},
   "source": [
    "### 2. Sub-category Analysis"
   ]
  },
  {
   "cell_type": "code",
   "execution_count": 9,
   "metadata": {},
   "outputs": [
    {
     "name": "stdout",
     "output_type": "stream",
     "text": [
      "\n",
      "Sample rows with missing sub-categories:\n"
     ]
    },
    {
     "data": {
      "text/html": [
       "<div>\n",
       "<style scoped>\n",
       "    .dataframe tbody tr th:only-of-type {\n",
       "        vertical-align: middle;\n",
       "    }\n",
       "\n",
       "    .dataframe tbody tr th {\n",
       "        vertical-align: top;\n",
       "    }\n",
       "\n",
       "    .dataframe thead th {\n",
       "        text-align: right;\n",
       "    }\n",
       "</style>\n",
       "<table border=\"1\" class=\"dataframe\">\n",
       "  <thead>\n",
       "    <tr style=\"text-align: right;\">\n",
       "      <th></th>\n",
       "      <th>category</th>\n",
       "      <th>sub_category</th>\n",
       "      <th>crimeaditionalinfo</th>\n",
       "    </tr>\n",
       "  </thead>\n",
       "  <tbody>\n",
       "    <tr>\n",
       "      <th>8</th>\n",
       "      <td>RapeGang Rape RGRSexually Abusive Content</td>\n",
       "      <td>NaN</td>\n",
       "      <td>I got the message on Whatsapp to my number The...</td>\n",
       "    </tr>\n",
       "    <tr>\n",
       "      <th>25</th>\n",
       "      <td>RapeGang Rape RGRSexually Abusive Content</td>\n",
       "      <td>NaN</td>\n",
       "      <td>Respected Sir\\r\\n\\r\\nA very serious matter I w...</td>\n",
       "    </tr>\n",
       "    <tr>\n",
       "      <th>39</th>\n",
       "      <td>Sexually Explicit Act</td>\n",
       "      <td>NaN</td>\n",
       "      <td>httpswwwxnxxtvvideousapbfuckkkarrr\\r\\n\\r\\n Abo...</td>\n",
       "    </tr>\n",
       "    <tr>\n",
       "      <th>45</th>\n",
       "      <td>Sexually Obscene material</td>\n",
       "      <td>NaN</td>\n",
       "      <td>Many fake accounts are created and Im sufferin...</td>\n",
       "    </tr>\n",
       "    <tr>\n",
       "      <th>49</th>\n",
       "      <td>Sexually Explicit Act</td>\n",
       "      <td>NaN</td>\n",
       "      <td>SirMaam \\r\\nThis is my third report on this re...</td>\n",
       "    </tr>\n",
       "    <tr>\n",
       "      <th>...</th>\n",
       "      <td>...</td>\n",
       "      <td>...</td>\n",
       "      <td>...</td>\n",
       "    </tr>\n",
       "    <tr>\n",
       "      <th>93632</th>\n",
       "      <td>Sexually Explicit Act</td>\n",
       "      <td>NaN</td>\n",
       "      <td>ob cash                                     ...</td>\n",
       "    </tr>\n",
       "    <tr>\n",
       "      <th>93648</th>\n",
       "      <td>Sexually Explicit Act</td>\n",
       "      <td>NaN</td>\n",
       "      <td>I got fraud by atm exchange in union bank of i...</td>\n",
       "    </tr>\n",
       "    <tr>\n",
       "      <th>93653</th>\n",
       "      <td>RapeGang Rape RGRSexually Abusive Content</td>\n",
       "      <td>NaN</td>\n",
       "      <td>Respected Sir\\r\\n\\r\\nA very serious matter I w...</td>\n",
       "    </tr>\n",
       "    <tr>\n",
       "      <th>93667</th>\n",
       "      <td>RapeGang Rape RGRSexually Abusive Content</td>\n",
       "      <td>NaN</td>\n",
       "      <td>Respected Sir\\r\\n\\r\\nA very serious matter I w...</td>\n",
       "    </tr>\n",
       "    <tr>\n",
       "      <th>93678</th>\n",
       "      <td>RapeGang Rape RGRSexually Abusive Content</td>\n",
       "      <td>NaN</td>\n",
       "      <td>Respected Sir\\r\\n\\r\\nA very serious matter I w...</td>\n",
       "    </tr>\n",
       "  </tbody>\n",
       "</table>\n",
       "<p>6591 rows × 3 columns</p>\n",
       "</div>"
      ],
      "text/plain": [
       "                                        category sub_category  \\\n",
       "8      RapeGang Rape RGRSexually Abusive Content          NaN   \n",
       "25     RapeGang Rape RGRSexually Abusive Content          NaN   \n",
       "39                         Sexually Explicit Act          NaN   \n",
       "45                     Sexually Obscene material          NaN   \n",
       "49                         Sexually Explicit Act          NaN   \n",
       "...                                          ...          ...   \n",
       "93632                      Sexually Explicit Act          NaN   \n",
       "93648                      Sexually Explicit Act          NaN   \n",
       "93653  RapeGang Rape RGRSexually Abusive Content          NaN   \n",
       "93667  RapeGang Rape RGRSexually Abusive Content          NaN   \n",
       "93678  RapeGang Rape RGRSexually Abusive Content          NaN   \n",
       "\n",
       "                                      crimeaditionalinfo  \n",
       "8      I got the message on Whatsapp to my number The...  \n",
       "25     Respected Sir\\r\\n\\r\\nA very serious matter I w...  \n",
       "39     httpswwwxnxxtvvideousapbfuckkkarrr\\r\\n\\r\\n Abo...  \n",
       "45     Many fake accounts are created and Im sufferin...  \n",
       "49     SirMaam \\r\\nThis is my third report on this re...  \n",
       "...                                                  ...  \n",
       "93632    ob cash                                     ...  \n",
       "93648  I got fraud by atm exchange in union bank of i...  \n",
       "93653  Respected Sir\\r\\n\\r\\nA very serious matter I w...  \n",
       "93667  Respected Sir\\r\\n\\r\\nA very serious matter I w...  \n",
       "93678  Respected Sir\\r\\n\\r\\nA very serious matter I w...  \n",
       "\n",
       "[6591 rows x 3 columns]"
      ]
     },
     "execution_count": 9,
     "metadata": {},
     "output_type": "execute_result"
    }
   ],
   "source": [
    "# Analyze patterns in missing sub-categories\n",
    "subcat_nan_train_df = train_dataset[train_dataset['sub_category'].isna()]\n",
    "print(\"\\nSample rows with missing sub-categories:\")\n",
    "subcat_nan_train_df"
   ]
  },
  {
   "cell_type": "code",
   "execution_count": 10,
   "metadata": {},
   "outputs": [
    {
     "name": "stdout",
     "output_type": "stream",
     "text": [
      "\n",
      "Unique categories with missing sub-categories:\n"
     ]
    },
    {
     "data": {
      "text/plain": [
       "['RapeGang Rape RGRSexually Abusive Content',\n",
       " 'Sexually Explicit Act',\n",
       " 'Sexually Obscene material',\n",
       " 'Child Pornography CPChild Sexual Abuse Material CSAM']"
      ]
     },
     "execution_count": 10,
     "metadata": {},
     "output_type": "execute_result"
    }
   ],
   "source": [
    "# Check categories with missing sub-categories\n",
    "print(\"\\nUnique categories with missing sub-categories:\")\n",
    "list(subcat_nan_train_df['category'].unique())"
   ]
  },
  {
   "cell_type": "code",
   "execution_count": 11,
   "metadata": {},
   "outputs": [
    {
     "name": "stdout",
     "output_type": "stream",
     "text": [
      "\n",
      "Number of sexually-related crimes:\n"
     ]
    },
    {
     "data": {
      "text/plain": [
       "6591"
      ]
     },
     "execution_count": 11,
     "metadata": {},
     "output_type": "execute_result"
    }
   ],
   "source": [
    "# Check if these are sexually sensitive crimes\n",
    "print(\"\\nNumber of sexually-related crimes:\")\n",
    "subcat_nan_train_df['category'].str.lower().str.contains(\"sex\").sum()"
   ]
  },
  {
   "cell_type": "markdown",
   "metadata": {},
   "source": [
    "This includes every row in the dataframe\n",
    "\n",
    "**Important insight:** We discovered that sub-categories are primarily missing for sexually sensitive crimes. This appears to be an intentional data collection choice or may-be there is no sub-category for these category of crimes, rather than random missing data.\n",
    "\n"
   ]
  },
  {
   "cell_type": "markdown",
   "metadata": {},
   "source": [
    "### Checking Test Dataset for Similar Patterns"
   ]
  },
  {
   "cell_type": "code",
   "execution_count": 12,
   "metadata": {},
   "outputs": [
    {
     "name": "stdout",
     "output_type": "stream",
     "text": [
      "Test dataset patterns:\n"
     ]
    },
    {
     "data": {
      "text/plain": [
       "['RapeGang Rape RGRSexually Abusive Content',\n",
       " 'Sexually Explicit Act',\n",
       " 'Sexually Obscene material',\n",
       " 'Child Pornography CPChild Sexual Abuse Material CSAM']"
      ]
     },
     "execution_count": 12,
     "metadata": {},
     "output_type": "execute_result"
    }
   ],
   "source": [
    "subcat_nan_test_df = test_dataset[test_dataset['sub_category'].isna()]\n",
    "print(\"Test dataset patterns:\")\n",
    "list(subcat_nan_test_df['category'].unique())"
   ]
  },
  {
   "cell_type": "code",
   "execution_count": 13,
   "metadata": {},
   "outputs": [
    {
     "name": "stdout",
     "output_type": "stream",
     "text": [
      "\n",
      "Sexually-related crimes in test data:\n"
     ]
    },
    {
     "data": {
      "text/plain": [
       "2235"
      ]
     },
     "execution_count": 13,
     "metadata": {},
     "output_type": "execute_result"
    }
   ],
   "source": [
    "print(\"\\nSexually-related crimes in test data:\")\n",
    "subcat_nan_test_df['category'].str.lower().str.contains(\"sex\").sum()"
   ]
  },
  {
   "cell_type": "markdown",
   "metadata": {},
   "source": [
    "The test dataset shows the same pattern, confirming our observation about sexually sensitive crimes.\n",
    "\n",
    "### Checking Existing Sexual Crime Sub-categories"
   ]
  },
  {
   "cell_type": "code",
   "execution_count": 14,
   "metadata": {},
   "outputs": [
    {
     "name": "stdout",
     "output_type": "stream",
     "text": [
      "Existing sub-categories related to sexual crimes:\n",
      "Cyber Bullying  Stalking  Sexting\n"
     ]
    }
   ],
   "source": [
    "sub_categories = list(train_dataset['sub_category'].unique())\n",
    "sub_categories.remove(np.nan)\n",
    "\n",
    "print(\"Existing sub-categories related to sexual crimes:\")\n",
    "for text in sub_categories:\n",
    "    if 'sex' in text.lower():\n",
    "        print(text)"
   ]
  },
  {
   "cell_type": "markdown",
   "metadata": {},
   "source": [
    "While there is a sub-category **Cyber Bullying Stalking Sexting**, it's distinct from the categories with missing sub-categories."
   ]
  },
  {
   "cell_type": "markdown",
   "metadata": {},
   "source": [
    "### Sub-category Imputation"
   ]
  },
  {
   "cell_type": "code",
   "execution_count": 15,
   "metadata": {},
   "outputs": [],
   "source": [
    "prefix = \"sub-category of \"\n",
    "train_dataset.loc[:, 'sub_category'] = train_dataset['sub_category'].fillna(\n",
    "    train_dataset['category'].apply(lambda x: prefix + str(x))\n",
    ")\n",
    "test_dataset.loc[:, 'sub_category'] = test_dataset['sub_category'].fillna(\n",
    "    test_dataset['category'].apply(lambda x: prefix + str(x))\n",
    ")"
   ]
  },
  {
   "cell_type": "markdown",
   "metadata": {},
   "source": [
    "Reason for this Imputation strategy:\n",
    "- We prefix the main category with \"sub-category of\" to maintain data hierarchy\n",
    "- This approach preserves the sensitive nature of these crimes\n",
    "- It provides a consistent way to handle missing sub-categories\n"
   ]
  },
  {
   "cell_type": "markdown",
   "metadata": {},
   "source": [
    "## Label Analysis"
   ]
  },
  {
   "cell_type": "code",
   "execution_count": 16,
   "metadata": {},
   "outputs": [
    {
     "name": "stdout",
     "output_type": "stream",
     "text": [
      "Original label counts:\n",
      "Categories: 15\n",
      "Sub-categories: 39\n"
     ]
    }
   ],
   "source": [
    "print(\"Original label counts:\")\n",
    "print(\"Categories:\", train_dataset['category'].nunique())\n",
    "print(\"Sub-categories:\", train_dataset['sub_category'].nunique())"
   ]
  },
  {
   "cell_type": "code",
   "execution_count": 17,
   "metadata": {},
   "outputs": [
    {
     "name": "stdout",
     "output_type": "stream",
     "text": [
      "\n",
      "Category distribution:\n",
      "category\n",
      "Online Financial Fraud                                  57416\n",
      "Online and Social Media Related Crime                   12138\n",
      "Any Other Cyber Crime                                   10877\n",
      "Cyber Attack/ Dependent Crimes                           3608\n",
      "RapeGang Rape RGRSexually Abusive Content                2822\n",
      "Sexually Obscene material                                1838\n",
      "Hacking  Damage to computercomputer system etc           1710\n",
      "Sexually Explicit Act                                    1552\n",
      "Cryptocurrency Crime                                      480\n",
      "Online Gambling  Betting                                  444\n",
      "Child Pornography CPChild Sexual Abuse Material CSAM      379\n",
      "Online Cyber Trafficking                                  183\n",
      "Cyber Terrorism                                           161\n",
      "Ransomware                                                 56\n",
      "Report Unlawful Content                                     1\n",
      "Name: count, dtype: int64\n"
     ]
    }
   ],
   "source": [
    "print(\"\\nCategory distribution:\")\n",
    "print(train_dataset['category'].value_counts())"
   ]
  },
  {
   "cell_type": "code",
   "execution_count": 18,
   "metadata": {},
   "outputs": [
    {
     "name": "stdout",
     "output_type": "stream",
     "text": [
      "\n",
      "Sub-category distribution:\n",
      "sub_category\n",
      "UPI Related Frauds                                                      26843\n",
      "Other                                                                   10877\n",
      "DebitCredit Card FraudSim Swap Fraud                                    10802\n",
      "Internet Banking Related Fraud                                           8871\n",
      "Fraud CallVishing                                                        5802\n",
      "Cyber Bullying  Stalking  Sexting                                        4089\n",
      "EWallet Related Fraud                                                    4047\n",
      "sub-category of RapeGang Rape RGRSexually Abusive Content                2822\n",
      "FakeImpersonating Profile                                                2299\n",
      "Profile Hacking Identity Theft                                           2072\n",
      "Cheating by Impersonation                                                1987\n",
      "sub-category of Sexually Obscene material                                1838\n",
      "sub-category of Sexually Explicit Act                                    1552\n",
      "Unauthorised AccessData Breach                                           1114\n",
      "Online Job Fraud                                                          912\n",
      "DematDepository Fraud                                                     761\n",
      "Tampering with computer source documents                                  567\n",
      "Hacking/Defacement                                                        540\n",
      "Ransomware Attack                                                         534\n",
      "Malware Attack                                                            521\n",
      "SQL Injection                                                             508\n",
      "Denial of Service (DoS)/Distributed Denial of Service (DDOS) attacks      504\n",
      "Data Breach/Theft                                                         484\n",
      "Cryptocurrency Fraud                                                      480\n",
      "Online Gambling  Betting                                                  444\n",
      "Provocative Speech for unlawful acts                                      417\n",
      "sub-category of Child Pornography CPChild Sexual Abuse Material CSAM      379\n",
      "Email Hacking                                                             349\n",
      "Business Email CompromiseEmail Takeover                                   290\n",
      "Online Trafficking                                                        183\n",
      "Cyber Terrorism                                                           161\n",
      "EMail Phishing                                                            157\n",
      "Online Matrimonial Fraud                                                  132\n",
      "Damage to computer computer systems etc                                   108\n",
      "Website DefacementHacking                                                  89\n",
      "Ransomware                                                                 56\n",
      "Impersonating Email                                                        44\n",
      "Intimidating Email                                                         29\n",
      "Against Interest of sovereignty or integrity of India                       1\n",
      "Name: count, dtype: int64\n"
     ]
    }
   ],
   "source": [
    "print(\"\\nSub-category distribution:\")\n",
    "print(train_dataset['sub_category'].value_counts())"
   ]
  },
  {
   "cell_type": "markdown",
   "metadata": {},
   "source": [
    "Label distribution insights:\n",
    "- We have 15 main categories and 35 original sub-categories\n",
    "- After imputation, sub-categories increased to 39\n",
    "- This increase reflects our handling of sensitive crime categories"
   ]
  },
  {
   "cell_type": "markdown",
   "metadata": {},
   "source": [
    "## Checking Label Relationships"
   ]
  },
  {
   "cell_type": "code",
   "execution_count": 19,
   "metadata": {},
   "outputs": [
    {
     "name": "stdout",
     "output_type": "stream",
     "text": [
      "Sub-categories with multiple parent categories:\n",
      "Tampering with computer source documents has 2 categories: ['Cyber Attack/ Dependent Crimes'\n",
      " 'Hacking  Damage to computercomputer system etc']\n"
     ]
    }
   ],
   "source": [
    "subcategories = train_dataset['sub_category'].unique()\n",
    "\n",
    "print(\"Sub-categories with multiple parent categories:\")\n",
    "for subcategory in subcategories:\n",
    "    classes = train_dataset[train_dataset['sub_category']==subcategory]['category'].unique()\n",
    "    if len(classes) > 1:\n",
    "        print(f\"{subcategory} has {len(classes)} categories: {classes}\")"
   ]
  },
  {
   "cell_type": "markdown",
   "metadata": {},
   "source": [
    "**Important finding:** Only `Tampering with computer source documents` appears under multiple categories, suggesting a strong hierarchical structure in our data (i.e) roughly speaking category has `One-to-Many` relationship with the sub-category"
   ]
  },
  {
   "cell_type": "markdown",
   "metadata": {},
   "source": [
    "## Handling Duplicates and Inconsistencies\n",
    "### Initial Duplicate Check"
   ]
  },
  {
   "cell_type": "code",
   "execution_count": 20,
   "metadata": {},
   "outputs": [
    {
     "name": "stdout",
     "output_type": "stream",
     "text": [
      "Unique crime descriptions: 85013\n",
      "Total rows: 85876\n",
      "Original rows: 93665\n"
     ]
    }
   ],
   "source": [
    "print(\"Unique crime descriptions:\", train_dataset['crimeaditionalinfo'].nunique())\n",
    "print(\"Total rows:\", train_dataset.drop_duplicates().shape[0])\n",
    "print(\"Original rows:\", train_dataset.shape[0])"
   ]
  },
  {
   "cell_type": "markdown",
   "metadata": {},
   "source": [
    "We found some discrepancies between unique descriptions and rows, suggesting potential inconsistencies.\n",
    "\n",
    "### Analyzing Inconsistent Classifications"
   ]
  },
  {
   "cell_type": "code",
   "execution_count": 21,
   "metadata": {},
   "outputs": [
    {
     "name": "stdout",
     "output_type": "stream",
     "text": [
      "Inconsistent classifications:\n"
     ]
    },
    {
     "data": {
      "text/html": [
       "<div>\n",
       "<style scoped>\n",
       "    .dataframe tbody tr th:only-of-type {\n",
       "        vertical-align: middle;\n",
       "    }\n",
       "\n",
       "    .dataframe tbody tr th {\n",
       "        vertical-align: top;\n",
       "    }\n",
       "\n",
       "    .dataframe thead th {\n",
       "        text-align: right;\n",
       "    }\n",
       "</style>\n",
       "<table border=\"1\" class=\"dataframe\">\n",
       "  <thead>\n",
       "    <tr style=\"text-align: right;\">\n",
       "      <th></th>\n",
       "      <th>crimeaditionalinfo</th>\n",
       "      <th>category</th>\n",
       "      <th>sub_category</th>\n",
       "    </tr>\n",
       "  </thead>\n",
       "  <tbody>\n",
       "    <tr>\n",
       "      <th>290</th>\n",
       "      <td>\\r\\n  Dear sir\\r\\n        Please stop the frau...</td>\n",
       "      <td>1</td>\n",
       "      <td>2</td>\n",
       "    </tr>\n",
       "    <tr>\n",
       "      <th>292</th>\n",
       "      <td>\\r\\n  Dear sir\\r\\n        Please stop the frau...</td>\n",
       "      <td>1</td>\n",
       "      <td>2</td>\n",
       "    </tr>\n",
       "    <tr>\n",
       "      <th>293</th>\n",
       "      <td>\\r\\n  Dear sir\\r\\n        Please stop the frau...</td>\n",
       "      <td>1</td>\n",
       "      <td>2</td>\n",
       "    </tr>\n",
       "    <tr>\n",
       "      <th>294</th>\n",
       "      <td>\\r\\n  Dear sir\\r\\n        Please stop the frau...</td>\n",
       "      <td>1</td>\n",
       "      <td>2</td>\n",
       "    </tr>\n",
       "    <tr>\n",
       "      <th>337</th>\n",
       "      <td>\\r\\nCitizen Details \\r\\nAdd  pnoJai singhpura ...</td>\n",
       "      <td>1</td>\n",
       "      <td>2</td>\n",
       "    </tr>\n",
       "    <tr>\n",
       "      <th>...</th>\n",
       "      <td>...</td>\n",
       "      <td>...</td>\n",
       "      <td>...</td>\n",
       "    </tr>\n",
       "    <tr>\n",
       "      <th>82139</th>\n",
       "      <td>please frezee this amount</td>\n",
       "      <td>1</td>\n",
       "      <td>2</td>\n",
       "    </tr>\n",
       "    <tr>\n",
       "      <th>82195</th>\n",
       "      <td>please take action</td>\n",
       "      <td>1</td>\n",
       "      <td>2</td>\n",
       "    </tr>\n",
       "    <tr>\n",
       "      <th>83145</th>\n",
       "      <td>sir pls hold this amount</td>\n",
       "      <td>1</td>\n",
       "      <td>3</td>\n",
       "    </tr>\n",
       "    <tr>\n",
       "      <th>83149</th>\n",
       "      <td>sir pls kindly stop this amount</td>\n",
       "      <td>1</td>\n",
       "      <td>2</td>\n",
       "    </tr>\n",
       "    <tr>\n",
       "      <th>83481</th>\n",
       "      <td>someone made a fraud with me of amount</td>\n",
       "      <td>1</td>\n",
       "      <td>2</td>\n",
       "    </tr>\n",
       "  </tbody>\n",
       "</table>\n",
       "<p>449 rows × 3 columns</p>\n",
       "</div>"
      ],
      "text/plain": [
       "                                      crimeaditionalinfo  category  \\\n",
       "290    \\r\\n  Dear sir\\r\\n        Please stop the frau...         1   \n",
       "292    \\r\\n  Dear sir\\r\\n        Please stop the frau...         1   \n",
       "293    \\r\\n  Dear sir\\r\\n        Please stop the frau...         1   \n",
       "294    \\r\\n  Dear sir\\r\\n        Please stop the frau...         1   \n",
       "337    \\r\\nCitizen Details \\r\\nAdd  pnoJai singhpura ...         1   \n",
       "...                                                  ...       ...   \n",
       "82139                          please frezee this amount         1   \n",
       "82195                                 please take action         1   \n",
       "83145                           sir pls hold this amount         1   \n",
       "83149                    sir pls kindly stop this amount         1   \n",
       "83481            someone made a fraud with me of amount          1   \n",
       "\n",
       "       sub_category  \n",
       "290               2  \n",
       "292               2  \n",
       "293               2  \n",
       "294               2  \n",
       "337               2  \n",
       "...             ...  \n",
       "82139             2  \n",
       "82195             2  \n",
       "83145             3  \n",
       "83149             2  \n",
       "83481             2  \n",
       "\n",
       "[449 rows x 3 columns]"
      ]
     },
     "execution_count": 21,
     "metadata": {},
     "output_type": "execute_result"
    }
   ],
   "source": [
    "# We are now zooming into the descriptions which are associated to two to three categories or sub-categories\n",
    "\n",
    "inconsistent_data = (\n",
    "    train_dataset.groupby('crimeaditionalinfo')[['category', 'sub_category']]\n",
    "    .nunique()\n",
    "    .reset_index()\n",
    "    .query('category > 1 or sub_category > 1')\n",
    ")\n",
    "print(\"Inconsistent classifications:\")\n",
    "inconsistent_data"
   ]
  },
  {
   "cell_type": "markdown",
   "metadata": {},
   "source": [
    "**Observation 1:** Some crime descriptions are classified under multiple categories, suggesting:\n",
    "1. Ambiguous descriptions that could fit multiple categories\n",
    "\n",
    "**Observation 2:** We see that same descriptions are repeated, even though we have grouped only unique descriptions:\n",
    "1. There may be some trailing or beginning spaces which make the same descriptions considered as different unique descriptions\n"
   ]
  },
  {
   "cell_type": "markdown",
   "metadata": {},
   "source": [
    "### Text Cleaning"
   ]
  },
  {
   "cell_type": "code",
   "execution_count": 22,
   "metadata": {},
   "outputs": [],
   "source": [
    "# Remove trailing spaces\n",
    "train_dataset = train_dataset.apply(lambda col: col.str.strip())\n",
    "test_dataset = test_dataset.apply(lambda col: col.str.strip())"
   ]
  },
  {
   "cell_type": "code",
   "execution_count": 23,
   "metadata": {},
   "outputs": [
    {
     "name": "stdout",
     "output_type": "stream",
     "text": [
      "Inconsistent classifications:\n"
     ]
    },
    {
     "data": {
      "text/html": [
       "<div>\n",
       "<style scoped>\n",
       "    .dataframe tbody tr th:only-of-type {\n",
       "        vertical-align: middle;\n",
       "    }\n",
       "\n",
       "    .dataframe tbody tr th {\n",
       "        vertical-align: top;\n",
       "    }\n",
       "\n",
       "    .dataframe thead th {\n",
       "        text-align: right;\n",
       "    }\n",
       "</style>\n",
       "<table border=\"1\" class=\"dataframe\">\n",
       "  <thead>\n",
       "    <tr style=\"text-align: right;\">\n",
       "      <th></th>\n",
       "      <th>crimeaditionalinfo</th>\n",
       "      <th>category</th>\n",
       "      <th>sub_category</th>\n",
       "    </tr>\n",
       "  </thead>\n",
       "  <tbody>\n",
       "    <tr>\n",
       "      <th>0</th>\n",
       "      <td></td>\n",
       "      <td>12</td>\n",
       "      <td>28</td>\n",
       "    </tr>\n",
       "    <tr>\n",
       "      <th>1382</th>\n",
       "      <td>ANY DESK APP FRAUD</td>\n",
       "      <td>1</td>\n",
       "      <td>2</td>\n",
       "    </tr>\n",
       "    <tr>\n",
       "      <th>1438</th>\n",
       "      <td>ATM</td>\n",
       "      <td>1</td>\n",
       "      <td>2</td>\n",
       "    </tr>\n",
       "    <tr>\n",
       "      <th>2059</th>\n",
       "      <td>Amount debited fraudulently</td>\n",
       "      <td>1</td>\n",
       "      <td>2</td>\n",
       "    </tr>\n",
       "    <tr>\n",
       "      <th>2063</th>\n",
       "      <td>Amount debited fraudulently from my account</td>\n",
       "      <td>1</td>\n",
       "      <td>3</td>\n",
       "    </tr>\n",
       "    <tr>\n",
       "      <th>...</th>\n",
       "      <td>...</td>\n",
       "      <td>...</td>\n",
       "      <td>...</td>\n",
       "    </tr>\n",
       "    <tr>\n",
       "      <th>81705</th>\n",
       "      <td>sir pls hold this amount</td>\n",
       "      <td>1</td>\n",
       "      <td>3</td>\n",
       "    </tr>\n",
       "    <tr>\n",
       "      <th>81708</th>\n",
       "      <td>sir pls kindly stop this amount</td>\n",
       "      <td>1</td>\n",
       "      <td>2</td>\n",
       "    </tr>\n",
       "    <tr>\n",
       "      <th>82069</th>\n",
       "      <td>someone made a fraud with me of amount</td>\n",
       "      <td>1</td>\n",
       "      <td>2</td>\n",
       "    </tr>\n",
       "    <tr>\n",
       "      <th>83172</th>\n",
       "      <td>upi</td>\n",
       "      <td>2</td>\n",
       "      <td>3</td>\n",
       "    </tr>\n",
       "    <tr>\n",
       "      <th>83338</th>\n",
       "      <td>victim reported fraud amount Rs</td>\n",
       "      <td>1</td>\n",
       "      <td>2</td>\n",
       "    </tr>\n",
       "  </tbody>\n",
       "</table>\n",
       "<p>325 rows × 3 columns</p>\n",
       "</div>"
      ],
      "text/plain": [
       "                                crimeaditionalinfo  category  sub_category\n",
       "0                                                         12            28\n",
       "1382                            ANY DESK APP FRAUD         1             2\n",
       "1438                                           ATM         1             2\n",
       "2059                   Amount debited fraudulently         1             2\n",
       "2063   Amount debited fraudulently from my account         1             3\n",
       "...                                            ...       ...           ...\n",
       "81705                     sir pls hold this amount         1             3\n",
       "81708              sir pls kindly stop this amount         1             2\n",
       "82069       someone made a fraud with me of amount         1             2\n",
       "83172                                          upi         2             3\n",
       "83338              victim reported fraud amount Rs         1             2\n",
       "\n",
       "[325 rows x 3 columns]"
      ]
     },
     "execution_count": 23,
     "metadata": {},
     "output_type": "execute_result"
    }
   ],
   "source": [
    "inconsistent_data = (\n",
    "    train_dataset.groupby('crimeaditionalinfo')[['category', 'sub_category']]\n",
    "    .nunique()\n",
    "    .reset_index()\n",
    "    .query('category > 1 or sub_category > 1')\n",
    ")\n",
    "print(\"Inconsistent classifications:\")\n",
    "inconsistent_data"
   ]
  },
  {
   "cell_type": "markdown",
   "metadata": {},
   "source": [
    "This cleaning step revealed that some apparent duplicates were due to trailing spaces. As you could see, the number of unique `crimeaditionalinfo` has also reduced as there is no repeatition of `crimeaditionalinfo`"
   ]
  },
  {
   "cell_type": "markdown",
   "metadata": {},
   "source": [
    "### Handling Multiple Classifications"
   ]
  },
  {
   "cell_type": "code",
   "execution_count": 24,
   "metadata": {},
   "outputs": [],
   "source": [
    "resolved_data = (\n",
    "    train_dataset[train_dataset['crimeaditionalinfo'].isin(inconsistent_data['crimeaditionalinfo'])]\n",
    "    .groupby('crimeaditionalinfo')\n",
    "    .agg({\n",
    "        'category': lambda x: ' or '.join(sorted(x.unique())),\n",
    "        'sub_category': lambda x: ' or '.join(sorted(x.unique()))\n",
    "    })\n",
    "    .reset_index()\n",
    ")\n",
    "resolved_data = resolved_data.drop(0)"
   ]
  },
  {
   "cell_type": "markdown",
   "metadata": {},
   "source": [
    "**Resolution strategy:**\n",
    "- Instead of forcing a single classification, we preserve multiple categories using \"or\"\n",
    "- This approach maintains the complexity of real-world crime classification\n",
    "- It allows our model to learn that some crimes can span multiple categories"
   ]
  },
  {
   "cell_type": "markdown",
   "metadata": {},
   "source": [
    "## Final Dataset Creation"
   ]
  },
  {
   "cell_type": "code",
   "execution_count": 25,
   "metadata": {},
   "outputs": [],
   "source": [
    "# Combine cleaned and resolved data\n",
    "cleaned_dataset = train_dataset[~train_dataset['crimeaditionalinfo'].isin(inconsistent_data['crimeaditionalinfo'])]\n",
    "train_dataset = pd.concat([cleaned_dataset, resolved_data], ignore_index=True)"
   ]
  },
  {
   "cell_type": "code",
   "execution_count": 26,
   "metadata": {},
   "outputs": [],
   "source": [
    "# Apply same process to test dataset\n",
    "\n",
    "inconsistent_test_data = (\n",
    "    test_dataset.groupby('crimeaditionalinfo')[['category', 'sub_category']]\n",
    "    .nunique()\n",
    "    .reset_index()\n",
    "    .query('category > 1 or sub_category > 1')\n",
    ")\n",
    "\n",
    "resolved_test_data = (\n",
    "    test_dataset[test_dataset['crimeaditionalinfo'].isin(inconsistent_test_data['crimeaditionalinfo'])]\n",
    "    .groupby('crimeaditionalinfo')\n",
    "    .agg({\n",
    "        'category': lambda x: ' or '.join(sorted(x.unique())),\n",
    "        'sub_category': lambda x: ' or '.join(sorted(x.unique()))\n",
    "    })\n",
    "    .reset_index()\n",
    ")\n",
    "resolved_test_data = resolved_test_data.drop(0)\n",
    "\n",
    "cleaned_test_dataset = test_dataset[~test_dataset['crimeaditionalinfo'].isin(inconsistent_test_data['crimeaditionalinfo'])]\n",
    "test_dataset = pd.concat([cleaned_test_dataset, resolved_test_data], ignore_index=True)"
   ]
  },
  {
   "cell_type": "markdown",
   "metadata": {},
   "source": [
    "### Remove final duplicates"
   ]
  },
  {
   "cell_type": "code",
   "execution_count": 27,
   "metadata": {},
   "outputs": [],
   "source": [
    "train_dataset = train_dataset.drop_duplicates()\n",
    "test_dataset = test_dataset.drop_duplicates()"
   ]
  },
  {
   "cell_type": "code",
   "execution_count": 28,
   "metadata": {},
   "outputs": [
    {
     "name": "stdout",
     "output_type": "stream",
     "text": [
      "Pre-processed Training Dataset Shape: (83908, 3)\n",
      "Pre-processed Test Dataset Shape: (28339, 3)\n"
     ]
    }
   ],
   "source": [
    "# Final Dataset Shape\n",
    "\n",
    "print(\"Pre-processed Training Dataset Shape:\", train_dataset.shape)\n",
    "print(\"Pre-processed Test Dataset Shape:\", test_dataset.shape)"
   ]
  },
  {
   "cell_type": "markdown",
   "metadata": {},
   "source": [
    "Comparing to original raw dataset, \n",
    "- training set had `93686` rows \n",
    "- test set had `31229` rows"
   ]
  },
  {
   "cell_type": "code",
   "execution_count": 29,
   "metadata": {},
   "outputs": [],
   "source": [
    "train_dataset.to_csv(\"./cleaned_dataset/cleaned_train_dataset.csv\", index=False)\n",
    "test_dataset.to_csv(\"./cleaned_dataset/cleaned_test_dataset.csv\", index=False)"
   ]
  },
  {
   "cell_type": "markdown",
   "metadata": {},
   "source": [
    "**Final dataset characteristics:**\n",
    "- Clean, consistent text data\n",
    "- Preserved multiple classifications where appropriate\n",
    "- Maintained sensitive information handling\n",
    "- Ready for model training\n",
    "\n",
    "**Important note for modeling:**\n",
    "The presence of multiple categories (joined by \"or\") suggests we should consider this as a multi-label classification problem rather than a simple multi-class classification."
   ]
  }
 ],
 "metadata": {
  "kernelspec": {
   "display_name": "venv",
   "language": "python",
   "name": "python3"
  },
  "language_info": {
   "codemirror_mode": {
    "name": "ipython",
    "version": 3
   },
   "file_extension": ".py",
   "mimetype": "text/x-python",
   "name": "python",
   "nbconvert_exporter": "python",
   "pygments_lexer": "ipython3",
   "version": "3.11.9"
  }
 },
 "nbformat": 4,
 "nbformat_minor": 2
}
